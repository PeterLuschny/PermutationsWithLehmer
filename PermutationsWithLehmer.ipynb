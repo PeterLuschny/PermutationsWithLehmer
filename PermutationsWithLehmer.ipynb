{
 "cells": [
  {
   "cell_type": "markdown",
   "metadata": {
    "collapsed": false
   },
   "source": [
    "<h1 style=\"background: orange; color: #5E7AFF; text-align: center; line-height: 200%; letter-spacing: 1px; font-weight: bold;\">Permutations with Lehmer</h1>\n",
    "<h4>Peter Luschny, July 2022</h4>"
   ]
  },
  {
   "cell_type": "markdown",
   "metadata": {
    "collapsed": false
   },
   "source": [
    "##### Outline:"
   ]
  },
  {
   "cell_type": "markdown",
   "metadata": {
    "collapsed": false
   },
   "source": [
    "* Permutations\n",
    "\n",
    "\t=> select by property of associated Lehmer code\n",
    "\n",
    "* Partitions\n",
    "\n",
    "\t=> sort by [A334439](https://oeis.org/A334439)\n",
    "\n",
    "* Partition Triangle (0 <= k <= [A000041](https://oeis.org/A000041)(n))\n",
    "\n",
    "\t=> sum by largest part\n",
    "\n",
    "* Reduced Triangle (0 <= k <= n)\n",
    "\n",
    "\t=> row sum\n",
    "\n",
    "* Sequence\n",
    "\n"
   ]
  },
  {
   "cell_type": "markdown",
   "metadata": {
    "collapsed": false
   },
   "source": [
    "##### Concerned with:"
   ]
  },
  {
   "cell_type": "markdown",
   "metadata": {
    "collapsed": false
   },
   "source": [
    "|Partition <br> triangle|Reduced <br> triangle|Sequence|Lehmer <br> constraint|\n",
    "| :---:   | :---:   | :---:   | :---:  |\n",
    "| [A355777](https://oeis.org/A355777) | [A173018](https://oeis.org/A173018) | [A000142](https://oeis.org/A000142) | none |\n",
    "| [A355776](https://oeis.org/A355776) | [A356116](https://oeis.org/A356116) | [A056986](https://oeis.org/A56986)  | not monotonic |\n",
    "| [A356113](https://oeis.org/A356113) | [A174159](https://oeis.org/A174159) | [A356118](https://oeis.org/A356118) | -- |\n",
    "| [A134264](https://oeis.org/A134264) | [A001263](https://oeis.org/A001263) | [A000108](https://oeis.org/A000108) | weakly <br> decreasing |"
   ]
  },
  {
   "cell_type": "markdown",
   "metadata": {
    "collapsed": false
   },
   "source": [
    "##### Comment:"
   ]
  },
  {
   "cell_type": "markdown",
   "metadata": {
    "collapsed": false
   },
   "source": [
    "<p style=\"color:brown;font-size:large\">By a partition triangle, we understand an irregular triangle where each row corresponds to a mapping of Partitions(n) -> ZZ. We assume a fixed order of the partitions given. Here we will use the ordering defined by Gus Wiseman in A334439, which is the Abramowitz-Stegun ordering, except that the finer order is reverse-lexicographic instead of lexicographic. Examples are A355776, A355777, and A134264. 'Reducing' then means summing the values corresponding to the partitions of n with length k. The 'reduced partition triangle' then is a regular triangle with T(n, k) with 1 <= k <= n.</p>\n",
    "\n",
    "<p style=\"color:brown;font-size:large\">Conversely, for instance, A355776, the statistic of permutations whose Lehmer code is nonmonotonic, can be seen as a refinement of A356116, which in turn is a refinement of the sequence A056986, the number of permutations on [n] containing any given pattern alpha in the symmetric group S_3.</p>"
   ]
  },
  {
   "cell_type": "code",
   "execution_count": 1,
   "metadata": {
    "collapsed": false
   },
   "outputs": [
   ],
   "source": [
    "import collections\n",
    "from functools import cache\n",
    "from typing import Callable\n",
    "from sage.all import ZZ\n",
    "from sage.combinat.permutation import Permutation, Permutations\n",
    "from sage.combinat.partition import Partition, Partitions, number_of_partitions"
   ]
  },
  {
   "cell_type": "markdown",
   "metadata": {
    "collapsed": false
   },
   "source": [
    "<h3 style=\"color:#CD5C5C;background:white; line-height: 150%;border-top: thick solid #CD5C5C; float: left; width: 100%; margin-top: 1em;\">\n",
    "Some utility functions used later as constrains.\n",
    "</h3>"
   ]
  },
  {
   "cell_type": "code",
   "execution_count": 2,
   "metadata": {
    "collapsed": false
   },
   "outputs": [
   ],
   "source": [
    "def weakly_increasing(L: list[int]) -> bool:\n",
    "    return all(x <= y for x, y in zip(L, L[1:]))\n",
    "\n",
    "\n",
    "def weakly_decreasing(L: list[int]) -> bool:\n",
    "    return all(x >= y for x, y in zip(L, L[1:]))\n",
    "\n",
    "\n",
    "def not_monotonic(L: list[int]) -> bool:\n",
    "    return not weakly_increasing(L) and not weakly_decreasing(L)\n",
    "\n",
    "\n",
    "def void(L) -> bool:\n",
    "    return True"
   ]
  },
  {
   "cell_type": "markdown",
   "metadata": {
    "collapsed": false
   },
   "source": [
    "<p style=\"color:brown;font-size:large\">Utility function. Reduce a partition triangle to a 'normal' triangle.</p> "
   ]
  },
  {
   "cell_type": "code",
   "execution_count": 3,
   "metadata": {
    "collapsed": false
   },
   "outputs": [
   ],
   "source": [
    "@cache\n",
    "def Pn(n: int, k: int) -> int:\n",
    "    if k == 0: return 0\n",
    "    if n == 0 or k == 1: return 1\n",
    "    return Pn(n, k - 1) + Pn(n - k, k) if k <= n else Pn(n, k - 1)\n",
    "\n",
    "\n",
    "def reduce_parts(fun: Callable, n: int) -> list[int]:\n",
    "    funn: list[int] = fun(n)\n",
    "    return [sum(funn[Pn(n, k):Pn(n, k + 1)]) for k in range(n)]\n",
    "\n",
    "\n",
    "def reduce_partition_triangle(fun: Callable, n: int) -> list[list[int]]:\n",
    "    return [reduce_parts(fun, k) for k in range(1, n)]"
   ]
  },
  {
   "cell_type": "markdown",
   "metadata": {
    "collapsed": false
   },
   "source": [
    "<h3 style=\"color:#CD5C5C;background:white; line-height: 150%;border-top: thick solid #CD5C5C; float: left; width: 100%; margin-top: 1em;\">\n",
    "Permutation statistics\n",
    "</h3>"
   ]
  },
  {
   "cell_type": "markdown",
   "metadata": {
    "collapsed": false
   },
   "source": [
    "<p style=\"color:brown;font-size:large\">The main function. Maps permutations to partitions subject to constraints on their Lehmer code.</p>\n",
    "\n",
    "<p style=\"color:brown;font-size:large\">The order of the integer partitions is the Abramowitz-Stegun ordering except that the finer order is reverse-lexicographic instead of lexicographic, as defined by Gus Wiseman in A334439.</p>"
   ]
  },
  {
   "cell_type": "code",
   "execution_count": 4,
   "metadata": {
    "collapsed": false
   },
   "outputs": [
   ],
   "source": [
    "def perm_stats(n: int, constraint: Callable):\n",
    "    res = collections.defaultdict(int)\n",
    "    for p in Permutations(n):\n",
    "        l: list[int] = p.to_lehmer_code()\n",
    "        if constraint(l):\n",
    "            c: list[int] = [l.count(i) for i in range(len(p)) if i in l]\n",
    "            res[Partition(reversed(sorted(c)))] += 1\n",
    "    return sorted(res.items(), key=lambda x: len(x[0]))"
   ]
  },
  {
   "cell_type": "markdown",
   "metadata": {
    "collapsed": false
   },
   "source": [
    "<h3 style=\"color:#CD5C5C;background:white; line-height: 150%;border-top: thick solid #CD5C5C; float: left; width: 100%; margin-top: 1em;\">\n",
    "Example of the various mappings involved, the permutations of {1, 2, 3, 4}.\n",
    "</h3>\n",
    "<p style=\"color:brown;font-size:large\">The 'type' indicates whether the Lehmer code is weakly increasing, weakly decreasing or not monotonic.</p>\n"
   ]
  },
  {
   "cell_type": "markdown",
   "metadata": {
    "collapsed": false
   },
   "source": [
    "|Permutation|Lehmer Code|Type|Partition|\n",
    "| :---:   | :---:   | :---:   | :--- |\n",
    "|1234| [0000]| [T,T,F]| [4]|       \n",
    "|1243| [0010]| [F,F,T]| [3, 1]|    \n",
    "|1324| [0100]| [F,F,T]| [3, 1]|    \n",
    "|1423| [0200]| [F,F,T]| [3, 1]|    \n",
    "|2134| [1000]| [F,T,F]| [3, 1]|    \n",
    "|3124| [2000]| [F,T,F]| [3, 1]|    \n",
    "|4123| [3000]| [F,T,F]| [3, 1]|    \n",
    "|2341| [1110]| [F,T,F]| [3, 1]|    \n",
    "|1342| [0110]| [F,F,T]| [2, 2]|    \n",
    "|2143| [1010]| [F,F,T]| [2, 2]|    \n",
    "|2314| [1100]| [F,T,F]| [2, 2]|    \n",
    "|3412| [2200]| [F,T,F]| [2, 2]|    \n",
    "|1432| [0210]| [F,F,T]| [2, 1, 1]| \n",
    "|2413| [1200]| [F,F,T]| [2, 1, 1]| \n",
    "|2431| [1210]| [F,F,T]| [2, 1, 1]| \n",
    "|3142| [2010]| [F,F,T]| [2, 1, 1]| \n",
    "|3214| [2100]| [F,T,F]| [2, 1, 1]| \n",
    "|3241| [2110]| [F,T,F]| [2, 1, 1]| \n",
    "|3421| [2210]| [F,T,F]| [2, 1, 1]| \n",
    "|4132| [3010]| [F,F,T]| [2, 1, 1]| \n",
    "|4213| [3100]| [F,T,F]| [2, 1, 1]| \n",
    "|4231| [3110]| [F,T,F]| [2, 1, 1]| \n",
    "|4312| [3200]| [F,T,F]| [2, 1, 1]| \n",
    "|4321| [3210]| [F,T,F]| [1, 1, 1, 1]| "
   ]
  },
  {
   "cell_type": "markdown",
   "metadata": {
    "collapsed": false
   },
   "source": [
    "<p style=\"color:brown;font-size:large\">This table can be nicely summarized in this mapping:</p>\n",
    "\n",
    "|Partition|Counts|\n",
    "| :--: | :--: |\n",
    "|[4]| 1|\n",
    "|[3, 1]| 7|\n",
    "|[2, 2]| 4|\n",
    "|[2, 1, 1]| 11|\n",
    "|[1, 1, 1, 1] |1|\n",
    "\n",
    "<p style=\"color:brown;font-size:large\">The counts are row 4 of A355777.</p>"
   ]
  },
  {
   "cell_type": "markdown",
   "metadata": {
    "collapsed": false
   },
   "source": [
    "<h3 style=\"color:#CD5C5C;background:white; line-height: 150%;border-top: thick solid #CD5C5C; float: left; width: 100%; margin-top: 1em;\">\n",
    "A355777\n",
    "</h3>\n"
   ]
  },
  {
   "cell_type": "markdown",
   "metadata": {
    "collapsed": false
   },
   "source": [
    "<p style=\"color:brown;font-size:large\">A355777 -- A statistic of permutations given by their Lehmer code refining Euler's triangle A173018.</p>"
   ]
  },
  {
   "cell_type": "code",
   "execution_count": 5,
   "metadata": {
    "collapsed": false
   },
   "outputs": [
   ],
   "source": [
    "@cache\n",
    "def A355777_row(n: int) -> list[int]:\n",
    "    return [v[1] for v in perm_stats(n, void)]\n",
    "\n",
    "\n",
    "def A355777(n: int, k: int) -> int:\n",
    "    return A355777_row(n)[k]"
   ]
  },
  {
   "cell_type": "code",
   "execution_count": 6,
   "metadata": {
    "collapsed": false
   },
   "outputs": [
    {
     "name": "stdout",
     "output_type": "stream",
     "text": [
      "[1]\n",
      "[1]\n",
      "[1, 1]\n",
      "[1, 4, 1]\n",
      "[1, 7, 4, 11, 1]\n",
      "[1, 11, 15, 32, 34, 26, 1]\n",
      "[1, 16, 26, 15, 76, 192, 34, 122, 180, 57, 1]\n",
      "[1, 22, 42, 56, 156, 474, 267, 294, 426, 1494, 496, 423, 768, 120, 1]\n"
     ]
    }
   ],
   "source": [
    "for n in range(8):\n",
    "    print(A355777_row(n))\n",
    "\n",
    "# for n in range(8):\n",
    "#    print([A355777(n, k) for k in range(number_of_partitions(n))])"
   ]
  },
  {
   "cell_type": "markdown",
   "metadata": {
    "collapsed": false
   },
   "source": [
    "<p style=\"color:brown;font-size:large\">Euler's A173018 -- Reduced partition triangle A355777.</p> "
   ]
  },
  {
   "cell_type": "code",
   "execution_count": 7,
   "metadata": {
    "collapsed": false
   },
   "outputs": [
    {
     "name": "stdout",
     "output_type": "stream",
     "text": [
      "[1]\n",
      "[1, 1]\n",
      "[1, 4, 1]\n",
      "[1, 11, 11, 1]\n",
      "[1, 26, 66, 26, 1]\n",
      "[1, 57, 302, 302, 57, 1]\n",
      "[1, 120, 1191, 2416, 1191, 120, 1]\n",
      "[1, 247, 4293, 15619, 15619, 4293, 247, 1]\n"
     ]
    }
   ],
   "source": [
    "T = reduce_partition_triangle(A355777_row, 9)\n",
    "for row in T: print(row)"
   ]
  },
  {
   "cell_type": "markdown",
   "metadata": {
    "collapsed": false
   },
   "source": [
    "<p style=\"color:brown;font-size:large\">A000142 -- Factorial numbers, row sums of A173018.</p>"
   ]
  },
  {
   "cell_type": "code",
   "execution_count": 8,
   "metadata": {
    "collapsed": false
   },
   "outputs": [
    {
     "data": {
      "text/plain": [
       "[1, 2, 6, 24, 120, 720, 5040, 40320]"
      ]
     },
     "execution_count": 8,
     "metadata": {
     },
     "output_type": "execute_result"
    }
   ],
   "source": [
    "[sum(r) for r in reduce_partition_triangle(A355777_row, 9)]"
   ]
  },
  {
   "cell_type": "markdown",
   "metadata": {
    "collapsed": false
   },
   "source": [
    "<h3 style=\"color:#CD5C5C;background:white; line-height: 150%;border-top: thick solid #CD5C5C; float: left; width: 100%; margin-top: 1em;\">\n",
    "A355776\n",
    "</h3>\n",
    "\n"
   ]
  },
  {
   "cell_type": "markdown",
   "metadata": {
    "collapsed": false
   },
   "source": [
    "<p style=\"color:brown;font-size:large\">A355776 -- A statistic of permutations whose Lehmer code is nonmonotonic, refining triangle A356116.</p>\n"
   ]
  },
  {
   "cell_type": "code",
   "execution_count": 9,
   "metadata": {
    "collapsed": false
   },
   "outputs": [
   ],
   "source": [
    "@cache\n",
    "def A355776_row(n: int) -> list[int]:\n",
    "    if n < 2:\n",
    "        return [0]\n",
    "    S = perm_stats(n, not_monotonic)\n",
    "    return [0] + [s[1] for s in S] + [0]\n",
    "\n",
    "\n",
    "def A355776(n: int, k: int) -> int:\n",
    "    return A355776_row(n)[k] if n > 0 else 0"
   ]
  },
  {
   "cell_type": "code",
   "execution_count": 10,
   "metadata": {
    "collapsed": false,
    "scrolled": true
   },
   "outputs": [
    {
     "name": "stdout",
     "output_type": "stream",
     "text": [
      "[0]\n",
      "[0]\n",
      "[0, 0]\n",
      "[0, 1, 0]\n",
      "[0, 3, 2, 5, 0]\n",
      "[0, 6, 10, 22, 24, 16, 0]\n",
      "[0, 10, 20, 12, 61, 162, 29, 102, 150, 42, 0]\n"
     ]
    },
    {
     "name": "stdout",
     "output_type": "stream",
     "text": [
      "[0, 15, 35, 49, 135, 432, 246, 273, 391, 1389, 461, 388, 698, 99, 0]\n"
     ]
    }
   ],
   "source": [
    "for n in range(8):\n",
    "    print(A355776_row(n))\n",
    "\n",
    "#for n in range(8):\n",
    "#    print([A355776(n, k) for k in range(number_of_partitions(n))])"
   ]
  },
  {
   "cell_type": "markdown",
   "metadata": {
    "collapsed": false
   },
   "source": [
    "<p style=\"color:brown;font-size:large\">A356116 -- Reduced partition triangle A355776.</p> "
   ]
  },
  {
   "cell_type": "code",
   "execution_count": 11,
   "metadata": {
    "collapsed": false
   },
   "outputs": [
    {
     "name": "stdout",
     "output_type": "stream",
     "text": [
      "[0]\n",
      "[0, 0]\n",
      "[0, 1, 0]\n",
      "[0, 5, 5, 0]\n",
      "[0, 16, 46, 16, 0]\n",
      "[0, 42, 252, 252, 42, 0]\n",
      "[0, 99, 1086, 2241, 1086, 99, 0]\n",
      "[0, 219, 4097, 15129, 15129, 4097, 219, 0]\n"
     ]
    }
   ],
   "source": [
    "T = reduce_partition_triangle(A355776_row, 9)\n",
    "for row in T: print(row)"
   ]
  },
  {
   "cell_type": "markdown",
   "metadata": {
    "collapsed": false
   },
   "source": [
    "<p style=\"color:brown;font-size:large\">A056986 -- Number of permutations on {1,...,n} containing any given pattern alpha in the symmetric group S_3.</p>"
   ]
  },
  {
   "cell_type": "code",
   "execution_count": 12,
   "metadata": {
    "collapsed": false
   },
   "outputs": [
    {
     "data": {
      "text/plain": [
       "[0, 0, 1, 10, 78, 588, 4611, 38890]"
      ]
     },
     "execution_count": 12,
     "metadata": {
     },
     "output_type": "execute_result"
    }
   ],
   "source": [
    "[sum(r) for r in reduce_partition_triangle(A355776_row, 9)]"
   ]
  },
  {
   "cell_type": "markdown",
   "metadata": {
    "collapsed": false
   },
   "source": [
    "<h3 style=\"color:#CD5C5C;background:white; line-height: 150%;border-top: thick solid #CD5C5C; float: left; width: 100%; margin-top: 1em;\">\n",
    "A356113\n",
    "</h3>\n"
   ]
  },
  {
   "cell_type": "markdown",
   "metadata": {
    "collapsed": false
   },
   "source": [
    "<p style=\"color:brown;font-size:large\">A356113 -- Refining A174159, the Euler minus Narayana/Catalan triangle.<br> \n",
    "    T(n, k) = A355777(n, k) + A355776(n, k).</p>"
   ]
  },
  {
   "cell_type": "code",
   "execution_count": 13,
   "metadata": {
    "collapsed": false
   },
   "outputs": [
   ],
   "source": [
    "@cache\n",
    "def A356113(n: int, k: int) -> int:\n",
    "    return A355777(n, k) + A355776(n, k)\n",
    "\n",
    "\n",
    "def A356113_row(n: int) -> list[int]:\n",
    "    return [A356113(n, k) for k in range(number_of_partitions(n))]"
   ]
  },
  {
   "cell_type": "code",
   "execution_count": 14,
   "metadata": {
    "collapsed": false
   },
   "outputs": [
    {
     "name": "stdout",
     "output_type": "stream",
     "text": [
      "[1]\n",
      "[1]\n",
      "[1, 1]\n",
      "[1, 5, 1]\n",
      "[1, 10, 6, 16, 1]\n",
      "[1, 17, 25, 54, 58, 42, 1]\n",
      "[1, 26, 46, 27, 137, 354, 63, 224, 330, 99, 1]\n",
      "[1, 37, 77, 105, 291, 906, 513, 567, 817, 2883, 957, 811, 1466, 219, 1]\n"
     ]
    }
   ],
   "source": [
    "for n in range(8):\n",
    "    print(A356113_row(n))\n",
    "\n",
    "#for n in range(8):\n",
    "#    print([A356113(n, k) for k in range(number_of_partitions(n))])"
   ]
  },
  {
   "cell_type": "markdown",
   "metadata": {
    "collapsed": false
   },
   "source": [
    "<p style=\"color:brown;font-size:large\">A174159 -- Reduced partition triangle A356113.</p>"
   ]
  },
  {
   "cell_type": "code",
   "execution_count": 15,
   "metadata": {
    "collapsed": false
   },
   "outputs": [
    {
     "name": "stdout",
     "output_type": "stream",
     "text": [
      "[1]\n",
      "[1, 1]\n",
      "[1, 5, 1]\n",
      "[1, 16, 16, 1]\n",
      "[1, 42, 112, 42, 1]\n",
      "[1, 99, 554, 554, 99, 1]\n",
      "[1, 219, 2277, 4657, 2277, 219, 1]\n"
     ]
    }
   ],
   "source": [
    "T = reduce_partition_triangle(A356113_row, 8)\n",
    "for row in T: print(row)"
   ]
  },
  {
   "cell_type": "markdown",
   "metadata": {
    "collapsed": false
   },
   "source": [
    "<p style=\"color:brown;font-size:large\">A356118 -- Row sums of A174159.</p>"
   ]
  },
  {
   "cell_type": "code",
   "execution_count": 16,
   "metadata": {
    "collapsed": false
   },
   "outputs": [
    {
     "data": {
      "text/plain": [
       "[1, 2, 7, 34, 198, 1308, 9651, 79210]"
      ]
     },
     "execution_count": 16,
     "metadata": {
     },
     "output_type": "execute_result"
    }
   ],
   "source": [
    "[sum(r) for r in reduce_partition_triangle(A356113_row, 9)]"
   ]
  },
  {
   "cell_type": "markdown",
   "metadata": {
    "collapsed": false
   },
   "source": [
    "<h3 style=\"color:#CD5C5C;background:white; line-height: 150%;border-top: thick solid #CD5C5C; float: left; width: 100%; margin-top: 1em;\">\n",
    "A134264\n",
    "</h3>\n"
   ]
  },
  {
   "cell_type": "markdown",
   "metadata": {
    "collapsed": false
   },
   "source": [
    "<p style=\"color:brown;font-size:large\">A134264 -- Noncrossing partitions. <br>\n",
    "Refining A001263, the triangle of Narayana numbers.<br>\n",
    "    T(n, k) = A355777(n, k) - A355776(n, k).</p>"
   ]
  },
  {
   "cell_type": "code",
   "execution_count": 17,
   "metadata": {
    "collapsed": false
   },
   "outputs": [
   ],
   "source": [
    "@cache\n",
    "def A134264(n: int, k: int) -> int:\n",
    "    return A355777(n, k) - A355776(n, k)\n",
    "\n",
    "\n",
    "def A134264_row(n: int) -> list[int]:\n",
    "    return [A134264(n, k) for k in range(number_of_partitions(n))]"
   ]
  },
  {
   "cell_type": "code",
   "execution_count": 18,
   "metadata": {
    "collapsed": false
   },
   "outputs": [
    {
     "name": "stdout",
     "output_type": "stream",
     "text": [
      "[1]\n",
      "[1]\n",
      "[1, 1]\n",
      "[1, 3, 1]\n",
      "[1, 4, 2, 6, 1]\n",
      "[1, 5, 5, 10, 10, 10, 1]\n",
      "[1, 6, 6, 3, 15, 30, 5, 20, 30, 15, 1]\n",
      "[1, 7, 7, 7, 21, 42, 21, 21, 35, 105, 35, 35, 70, 21, 1]\n"
     ]
    }
   ],
   "source": [
    "for n in range(8):\n",
    "    print(A134264_row(n))\n",
    "\n",
    "#for n in range(7):\n",
    "#    print([A134264(n, k) for k in range(number_of_partitions(n))])"
   ]
  },
  {
   "cell_type": "markdown",
   "metadata": {
    "collapsed": false
   },
   "source": [
    "<p style=\"color:brown;font-size:large\">A001263 -- Triangle of Narayana numbers.</p>"
   ]
  },
  {
   "cell_type": "code",
   "execution_count": 19,
   "metadata": {
    "collapsed": false
   },
   "outputs": [
    {
     "name": "stdout",
     "output_type": "stream",
     "text": [
      "[1]\n",
      "[1, 1]\n",
      "[1, 3, 1]\n",
      "[1, 6, 6, 1]\n",
      "[1, 10, 20, 10, 1]\n",
      "[1, 15, 50, 50, 15, 1]\n",
      "[1, 21, 105, 175, 105, 21, 1]\n"
     ]
    }
   ],
   "source": [
    "T = reduce_partition_triangle(A134264_row, 8)\n",
    "for row in T: print(row)"
   ]
  },
  {
   "cell_type": "markdown",
   "metadata": {
    "collapsed": false
   },
   "source": [
    "<p style=\"color:brown;font-size:large\">A000108 -- Catalan numbers.</p>"
   ]
  },
  {
   "cell_type": "code",
   "execution_count": 20,
   "metadata": {
    "collapsed": false
   },
   "outputs": [
    {
     "data": {
      "text/plain": [
       "[1, 2, 5, 14, 42, 132, 429, 1430]"
      ]
     },
     "execution_count": 20,
     "metadata": {
     },
     "output_type": "execute_result"
    }
   ],
   "source": [
    "[sum(r) for r in reduce_partition_triangle(A134264_row, 9)]"
   ]
  },
  {
   "cell_type": "code",
   "execution_count": 0,
   "metadata": {
    "collapsed": false
   },
   "outputs": [
   ],
   "source": [
   ]
  }
 ],
 "metadata": {
  "kernelspec": {
   "display_name": "SageMath 9.6",
   "language": "sagemath",
   "metadata": {
    "cocalc": {
     "description": "Open-source mathematical software system",
     "priority": 10,
     "url": "https://www.sagemath.org/"
    }
   },
   "name": "sage-9.6",
   "resource_dir": "/ext/jupyter/kernels/sage-9.6"
  },
  "language_info": {
   "codemirror_mode": {
    "name": "ipython",
    "version": 3
   },
   "file_extension": ".py",
   "mimetype": "text/x-python",
   "name": "python",
   "nbconvert_exporter": "python",
   "pygments_lexer": "ipython3",
   "version": "3.10.3"
  }
 },
 "nbformat": 4,
 "nbformat_minor": 4
}

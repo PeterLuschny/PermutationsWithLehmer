{
 "cells": [
  {
   "cell_type": "markdown",
   "metadata": {},
   "source": [
    "<h1 style=\"background: #FF7F50; color: #1F51FF; text-align: center; line-height: 130%; letter-spacing: 1px; font-weight: bold;\">Permutations<br>with Lehmer and Comtet</h1>\n",
    "<h4>Peter Luschny, July 2022</h4>"
   ]
  },
  {
   "cell_type": "markdown",
   "metadata": {},
   "source": [
    "##### Outline:"
   ]
  },
  {
   "cell_type": "markdown",
   "metadata": {},
   "source": [
    "\n",
    "<ul>\n",
    "<li>Permutations\n",
    "\n",
    "\t=> select by property of associated Lehmer code\n",
    "       and/or by Comtet constraint\n",
    "</li>\n",
    "\n",
    "<li>Partitions\n",
    "\n",
    "\t=> sort by A080577\n",
    "\n",
    "<li>Partition Triangle\n",
    "    \n",
    "    => expand by largest part\n",
    "    n >= 0, 0 <= k <= A000041(n)\n",
    "</li>\n",
    "\n",
    "<li>Reduced Triangle \n",
    "    \n",
    "\t=> sum by largest part\n",
    "    n >= 1, 0 <= k < n\n",
    "</li>\n",
    "\n",
    "<li>Sequence\n",
    "    \n",
    "    => sum rows of the partition triangle\n",
    "    n >= 0\n",
    "</li>\n",
    "</ul>\n"
   ]
  },
  {
   "cell_type": "markdown",
   "metadata": {},
   "source": [
    "##### Concerned with:"
   ]
  },
  {
   "cell_type": "markdown",
   "metadata": {},
   "source": [
    "|Partition <br> triangle|Reduced <br> triangle|Sequence|Comtet<br>constraint|Lehmer <br> constraint|\n",
    "| :---:   | :---:   | :---:   | :---:  |  :---:  |\n",
    "| [A355777](https://oeis.org/A355777) | [A173018](https://oeis.org/A173018) | [A000142](https://oeis.org/A000142) | none | none |\n",
    "| [A355776](https://oeis.org/A355776) | [A356116](https://oeis.org/A356116) | [A056986](https://oeis.org/A56986)   | none | not<br>monotonic |\n",
    "| [A356113](https://oeis.org/A356113) | [A174159](https://oeis.org/A174159) | [A356118](https://oeis.org/A356118) | none | none |\n",
    "| [A134264](https://oeis.org/A134264) | [A001263](https://oeis.org/A001263) | [A000108](https://oeis.org/A000108) | none | weakly <br> decreasing |\n",
    "| [A356262](https://oeis.org/A356262) | [A356263](https://oeis.org/A356263) | [A003319](https://oeis.org/A003319) | reducible | none |\n",
    "| [A356264](https://oeis.org/A356264) | [A356265](https://oeis.org/A356265) | [A356291](https://oeis.org/A356291) | irreducible | none |\n",
    "| [A356261](https://oeis.org/A356261) | [A119308](https://oeis.org/A119308) | [A071724](https://oeis.org/A071724) | reducible | weakly <br> decreasing |\n",
    "| [A356266](https://oeis.org/A356266) | [A356115](https://oeis.org/A356115) | [A120588](https://oeis.org/A120588) | irreducible | weakly <br> decreasing |"
   ]
  },
  {
   "cell_type": "markdown",
   "metadata": {},
   "source": [
    "##### Comment:"
   ]
  },
  {
   "cell_type": "markdown",
   "metadata": {},
   "source": [
    "<p style=\"color:brown;font-size:large\">By a partition triangle, we understand an irregular triangle where each row corresponds to a mapping of Partitions(n) -> ZZ. We assume a fixed order of the partitions given. Here we will use the ordering defined in A080577 (see below). Examples are A355776, A355777, and A134264. 'Reducing' then means summing the values corresponding to the partitions of n with largest part k. The 'reduced partition triangle' is a regular triangle with T(n, k) with n &ge; 1 and 0 &leq; k &lt; n.</p>\n",
    "\n",
    "<p style=\"color:brown;font-size:large\">Conversely, for instance, A355776, the statistic of permutations whose Lehmer code is nonmonotonic, can be seen as a refinement of A356116, which in turn is a refinement of the sequence A056986, the number of permutations on [n] containing any given pattern alpha in the symmetric group S_3.</p>\n",
    "\n",
    "<p style=\"color:brown;font-size:large\">So that there is no misunderstanding: The programs here attempt to trace a conceptual framework; no claim is made that they are any good for efficient computation.</p>"
   ]
  },
  {
   "cell_type": "code",
   "execution_count": 1,
   "metadata": {
    "vscode": {
     "languageId": "python"
    }
   },
   "outputs": [],
   "source": [
    "import collections\n",
    "from functools import cache\n",
    "from typing import Callable\n",
    "from sage.all import ZZ\n",
    "from sage.combinat.permutation import Permutation, Permutations\n",
    "from sage.combinat.partition import Partition, Partitions, number_of_partitions"
   ]
  },
  {
   "cell_type": "markdown",
   "metadata": {},
   "source": [
    "<h3 style=\"color:#CD5C5C;background:white; line-height: 150%;border-top: thick solid #CD5C5C; float: left; width: 100%; margin-top: 1em;\">\n",
    "Some utility functions used later as constrains.\n",
    "</h3>"
   ]
  },
  {
   "cell_type": "markdown",
   "metadata": {},
   "source": [
    "<p style=\"color:brown;font-size:large\">A permutation p in [n] (where n >= 0) is reducible if there exist an i in 1..n-1 such that for all j in the range 1..i and all k in the range i+1..n it is true that p(j) < p(k). (Note that a range a..b includes a and b.) If such an i exists we say that i splits the permutation at i.</p>\n",
    "\n",
    "<p style=\"color:brown;font-size:large\">Examples: a(n) = A003319(n).</p>\n",
    "<li style=\"color:brown;font-size:large\">\n",
    "    () is not reducible since there is no index i which splits (). (=> a(0) = 1)</li>\n",
    "<li style=\"color:brown;font-size:large\">\n",
    "    (1) is not reducible since there is no index i which splits (1). (=> a(1) = 1)</li>\n",
    "<li style=\"color:brown;font-size:large\">\n",
    "    (1, 2) is reducible since index 1 splits (1, 2) as p(1) < p(2).</li>\n",
    "<li style=\"color:brown;font-size:large\">\n",
    "    (2, 1) is not reducible since at the only potential splitting point i = 1 we have p(1) > p(2). (=> a(2) = 1)</li>\n",
    "<li style=\"color:brown;font-size:large\">\n",
    "For n = 3 we have (1, 2, 3), (1, 3, 2), and (2, 1, 3) are reducible and (2, 3, 1), (3, 1, 2), and (3, 2, 1) are irreducible.</li>"
   ]
  },
  {
   "cell_type": "code",
   "execution_count": 2,
   "metadata": {
    "vscode": {
     "languageId": "python"
    }
   },
   "outputs": [],
   "source": [
    "def reducible(p) -> bool:  # p is a Sage-Permutation\n",
    "    return any(i for i in range(1, p.size())\n",
    "                  if all(p(j) < p(k)\n",
    "                      for j in range(1, i + 1)\n",
    "                          for k in range(i + 1, p.size() + 1)\n",
    "              )   )\n",
    "\n",
    "\n",
    "def irreducible(p) -> bool:\n",
    "    return not reducible(p)\n",
    "\n",
    "\n",
    "def weakly_increasing(L: list[int]) -> bool:\n",
    "    return all(x <= y for x, y in zip(L, L[1:]))\n",
    "\n",
    "\n",
    "def weakly_decreasing(L: list[int]) -> bool:\n",
    "    return all(x >= y for x, y in zip(L, L[1:]))\n",
    "\n",
    "\n",
    "def not_monotonic(L: list[int]) -> bool:\n",
    "    return not weakly_increasing(L) and not weakly_decreasing(L)\n",
    "\n",
    "\n",
    "def void(L) -> bool:\n",
    "    return True"
   ]
  },
  {
   "cell_type": "markdown",
   "metadata": {},
   "source": [
    "<p style=\"color:brown;font-size:large\">Let's illustrate this with the first ten permutations (A030298, prepended with the empty permutation).</p>"
   ]
  },
  {
   "cell_type": "markdown",
   "metadata": {},
   "source": [
    "\n",
    "| n |permut| reduc| lehmer| notmono| decreas|\n",
    "|:-| :- | :--  |     :--- | :--- | :--- |\n",
    "|0|()   | False| []       | False| True|\n",
    "|1|(1)  | False| [0]      | False| True|\n",
    "|2|(12) | True | [0, 0]   | False| True|\n",
    "|2|(21) | False| [1, 0]   | False| True|\n",
    "|3|(123)| True | [0, 0, 0]| False| True|\n",
    "|3|(132)| True | [0, 1, 0]| True |False|\n",
    "|3|(213)| True | [1, 0, 0]| False| True|\n",
    "|3|(231)| False| [1, 1, 0]| False| True|\n",
    "|3|(312)| False| [2, 0, 0]| False| True|\n",
    "|3|(321)| False| [2, 1, 0]| False| True|"
   ]
  },
  {
   "cell_type": "markdown",
   "metadata": {},
   "source": [
    "<p style=\"color:brown;font-size:large\">Indexing and the reduction of a partition triangle to a 'normal' triangle.</p> "
   ]
  },
  {
   "cell_type": "markdown",
   "metadata": {},
   "source": [
    "<p style=\"color:brown;font-size:normal\">The considered sequences have three types, which are all enumerated according to the same scheme.</p>\n",
    "\n",
    "<p style=\"color:brown;font-size:normal\"> A 'partition triangle' starts with row n = 0 and for k the terms P(n, k) cover the range 0 <= k <= A000041(n). The partitions are sorted as in A080577, first by sum, then by largest part, and finally reverse-lexicographically.</p>\n",
    "\n",
    "<p style=\"color:brown;font-size:normal\"> We cite Franklin T. Adams-Watters: \n",
    "\"This is the 'Mathematica' ordering of the partitions. [...] The partitions of each integer are in reverse order of the conjugates of the partitions in Abramowitz and Stegun order (A036036). They are in the reverse of the order of the partitions\n",
    "in Maple order (A080576).\"</p>\n",
    "\n",
    "<p style=\"color:brown;font-size:normal\">Generating the partitions in this order is described as 'Algorithm P' in Knuth's TAOCP, 7.2.1.4.</p>\n",
    "\n",
    "<pre>[n\\k]  0    1     2      3     4       5       6\n",
    "[0]   ();\n",
    "[1]   (1);\n",
    "[2]   (2), (11);\n",
    "[3]   (3), (21), (111);\n",
    "[4]   (4), (31), (22), (211), (1111);\n",
    "[5]   (5), (41), (32), (311), (221), (2111), (11111);</pre>\n",
    "\n",
    "<p style=\"color:brown;font-size:normal\">A 'reduced partition triangle' starts with row n = 1 and the row-index k covers the range 0 <= k < n. Terms are\n",
    "T(n, k) = Sum_{&lambda;(p)=k} P(n, k), where &lambda;(p) is the largest \n",
    "part of p. We illustrate this with the brackets |...|:</p>\n",
    "\n",
    "<pre>[n\\k]  0     1         2             3              4  \n",
    "[1]   (1);\n",
    "[2]   (2), (11);\n",
    "[3]   (3), (21),  (111);\n",
    "[4]   (4), (31), |(22), (211)|,  (1111);\n",
    "[5]   (5), (41), |(32), (311)|, |(221), (2111)|, (11111);</pre>\n",
    "\n",
    "<p style=\"color:brown;font-size:normal\">One can justifiably argue that one should also start the rows of this triangle at zero. In the OEIS this would have led to irregular triangles ('tabf'). However, we wanted to keep the same row index as in the partition triangle and get regular triangles. On the other hand one could also argue that in this case the top of the reduced triangle should be set to the index (1, 1) to get symmetry in the indices.</p>\n",
    "\n",
    "<p style=\"color:brown;font-size:normal\">Finally, the row sums of the partition triangle are listed. So they always start with the index n = 0.</p>\n"
   ]
  },
  {
   "cell_type": "code",
   "execution_count": 3,
   "metadata": {
    "vscode": {
     "languageId": "python"
    }
   },
   "outputs": [],
   "source": [
    "@cache\n",
    "def Pn(n: int, k: int) -> int:\n",
    "    if k == 0: return 0\n",
    "    if n == 0 or k == 1: return 1\n",
    "    return Pn(n, k - 1) + Pn(n - k, k) if k <= n else Pn(n, k - 1)\n",
    "\n",
    "\n",
    "def reduce_parts(fun: Callable, n: int) -> list[int]:\n",
    "    funn: list[int] = fun(n)\n",
    "    return [sum(funn[Pn(n, k):Pn(n, k + 1)]) for k in range(n)]\n",
    "\n",
    "\n",
    "def reduce_partition_triangle(fun: Callable, n: int) -> list[list[int]]:\n",
    "    return [reduce_parts(fun, k) for k in range(1, n)]"
   ]
  },
  {
   "cell_type": "markdown",
   "metadata": {},
   "source": [
    "<h3 style=\"color:#CD5C5C;background:white; line-height: 150%;border-top: thick solid #CD5C5C; float: left; width: 100%; margin-top: 1em;\">\n",
    "Permutation statistics\n",
    "</h3>"
   ]
  },
  {
   "cell_type": "markdown",
   "metadata": {},
   "source": [
    "<p style=\"color:brown;font-size:large\">The main function. Maps permutations to partitions subject to constraints on their Lehmer code.</p>\n",
    "\n",
    "<p style=\"color:brown;font-size:large\">The order of the integer partitions is the Abramowitz-Stegun ordering except that the finer order is reverse-lexicographic instead of lexicographic, as defined by Gus Wiseman in A334439.</p>"
   ]
  },
  {
   "cell_type": "code",
   "execution_count": 4,
   "metadata": {
    "vscode": {
     "languageId": "python"
    }
   },
   "outputs": [],
   "source": [
    "def perm_stats(n: int, lehmer_constraint: Callable):\n",
    "    res = collections.defaultdict(int)\n",
    "    for p in Permutations(n):\n",
    "        l: list[int] = p.to_lehmer_code()\n",
    "        if lehmer_constraint(l):\n",
    "            c: list[int] = [l.count(i) for i in range(len(p)) if i in l]\n",
    "            res[Partition(reversed(sorted(c)))] += 1\n",
    "    return sorted(res.items(), key=lambda x: len(x[0]))"
   ]
  },
  {
   "cell_type": "markdown",
   "metadata": {},
   "source": [
    "<p style=\"color:brown;font-size:large\">If additionally we put a constraint on the permutations:</p>"
   ]
  },
  {
   "cell_type": "code",
   "execution_count": 5,
   "metadata": {
    "vscode": {
     "languageId": "python"
    }
   },
   "outputs": [],
   "source": [
    "def perm_red_stats(n: int, part_costraint: Callable, lehmer_constraint: Callable):\n",
    "    res = collections.defaultdict(int)\n",
    "    for p in Permutations(n):\n",
    "        if not part_costraint(p): continue\n",
    "        l: list[int] = p.to_lehmer_code()\n",
    "        if lehmer_constraint(l):\n",
    "            c: list[int] = [l.count(i) for i in range(len(p)) if i in l]             \n",
    "            res[Partition(reversed(sorted(c)))] += 1\n",
    "    return sorted(res.items(), key=lambda x: len(x[0]))"
   ]
  },
  {
   "cell_type": "markdown",
   "metadata": {},
   "source": [
    "<h3 style=\"color:#CD5C5C;background:white; line-height: 150%;border-top: thick solid #CD5C5C; float: left; width: 100%; margin-top: 1em;\">\n",
    "Example of the various mappings involved, the permutations of {1, 2, 3, 4}.\n",
    "</h3>"
   ]
  },
  {
   "cell_type": "markdown",
   "metadata": {},
   "source": [
    "<p style=\"color:brown;font-size:large\">The 'type' indicates whether the Lehmer code is weakly increasing, weakly decreasing or not monotonic.</p>\n",
    "\n"
   ]
  },
  {
   "cell_type": "markdown",
   "metadata": {},
   "source": [
    "|Permutation|Reducible|Lehmer Code|Type |Partition|\n",
    "| :---:     | :---:   | :---:     |:---:| :---    |\n",
    "|1234| T | [0000]| [T,T,F]| [4]|  \n",
    "|1243| T |[0010]| [F,F,T]| [3, 1]|  \n",
    "|1324| T |[0100]| [F,F,T]| [3, 1]|  \n",
    "|1423| T |[0200]| [F,F,T]| [3, 1]|  \n",
    "|2134| T |[1000]| [F,T,F]| [3, 1]|  \n",
    "|3124| T |[2000]| [F,T,F]| [3, 1]|  \n",
    "|4123| F |[3000]| [F,T,F]| [3, 1]|  \n",
    "|2341| F |[1110]| [F,T,F]| [3, 1]|  \n",
    "|1342| T |[0110]| [F,F,T]| [2, 2]|  \n",
    "|2143| T |[1010]| [F,F,T]| [2, 2]|  \n",
    "|2314| T |[1100]| [F,T,F]| [2, 2]|  \n",
    "|3412| F |[2200]| [F,T,F]| [2, 2]|  \n",
    "|1432| T |[0210]| [F,F,T]| [2, 1, 1]| \n",
    "|2413| F |[1200]| [F,F,T]| [2, 1, 1]| \n",
    "|2431| F |[1210]| [F,F,T]| [2, 1, 1]| \n",
    "|3142| F |[2010]| [F,F,T]| [2, 1, 1]| \n",
    "|3214| T |[2100]| [F,T,F]| [2, 1, 1]| \n",
    "|3241| F |[2110]| [F,T,F]| [2, 1, 1]| \n",
    "|3421| F |[2210]| [F,T,F]| [2, 1, 1]| \n",
    "|4132| F |[3010]| [F,F,T]| [2, 1, 1]| \n",
    "|4213| F |[3100]| [F,T,F]| [2, 1, 1]| \n",
    "|4231| F |[3110]| [F,T,F]| [2, 1, 1]| \n",
    "|4312| F |[3200]| [F,T,F]| [2, 1, 1]| \n",
    "|4321| F |[3210]| [F,T,F]| [1, 1, 1, 1]| \n",
    "\n"
   ]
  },
  {
   "cell_type": "markdown",
   "metadata": {},
   "source": [
    "<p style=\"color:brown;font-size:large\">This table can be nicely summarized in this mapping:</p>\n",
    "\n",
    "|Partition|Counts|\n",
    "| :--: | :--: |\n",
    "|[4]| 1|\n",
    "|[3, 1]| 7|\n",
    "|[2, 2]| 4|\n",
    "|[2, 1, 1]| 11|\n",
    "|[1, 1, 1, 1] |1|\n",
    "\n",
    "<p style=\"color:brown;font-size:large\">The counts are row 4 of A355777.</p>"
   ]
  },
  {
   "cell_type": "markdown",
   "metadata": {},
   "source": [
    "<h3 style=\"color:#CD5C5C;background:white; line-height: 150%;border-top: thick solid #CD5C5C; float: left; width: 100%; margin-top: 1em;\">\n",
    "A355777\n",
    "</h3>\n"
   ]
  },
  {
   "cell_type": "markdown",
   "metadata": {},
   "source": [
    "<p style=\"color:brown;font-size:large\">A355777 -- A statistic of permutations given by their Lehmer code refining Euler's triangle A173018.</p>"
   ]
  },
  {
   "cell_type": "code",
   "execution_count": 6,
   "metadata": {
    "vscode": {
     "languageId": "python"
    }
   },
   "outputs": [],
   "source": [
    "@cache\n",
    "def A355777_row(n: int) -> list[int]:\n",
    "    return [v[1] for v in perm_stats(n, void)]\n",
    "\n",
    "\n",
    "def A355777(n: int, k: int) -> int:\n",
    "    return A355777_row(n)[k]"
   ]
  },
  {
   "cell_type": "code",
   "execution_count": 7,
   "metadata": {
    "vscode": {
     "languageId": "python"
    }
   },
   "outputs": [
    {
     "name": "stdout",
     "output_type": "stream",
     "text": [
      "[1]\n",
      "[1]\n",
      "[1, 1]\n",
      "[1, 4, 1]\n",
      "[1, 7, 4, 11, 1]\n",
      "[1, 11, 15, 32, 34, 26, 1]\n",
      "[1, 16, 26, 15, 76, 192, 34, 122, 180, 57, 1]\n",
      "[1, 22, 42, 56, 156, 474, 267, 294, 426, 1494, 496, 423, 768, 120, 1]\n"
     ]
    }
   ],
   "source": [
    "for n in range(8):\n",
    "    print(A355777_row(n))\n",
    "\n",
    "# for n in range(8):\n",
    "#    print([A355777(n, k) for k in range(number_of_partitions(n))])"
   ]
  },
  {
   "cell_type": "markdown",
   "metadata": {},
   "source": [
    "<p style=\"color:brown;font-size:large\">Euler's A173018 -- Reduced partition triangle A355777.</p> "
   ]
  },
  {
   "cell_type": "code",
   "execution_count": 8,
   "metadata": {
    "vscode": {
     "languageId": "python"
    }
   },
   "outputs": [],
   "source": [
    "def A173018_row(n: int) -> list[int]:\n",
    "    return reduce_partition_triangle(A355777_row, n + 1)[n - 1]\n",
    "\n",
    "def A173018(n: int, k: int) -> int:\n",
    "    return A173018_row(n)[k]"
   ]
  },
  {
   "cell_type": "code",
   "execution_count": 9,
   "metadata": {
    "vscode": {
     "languageId": "python"
    }
   },
   "outputs": [
    {
     "name": "stdout",
     "output_type": "stream",
     "text": [
      "[1]\n",
      "[1, 1]\n",
      "[1, 4, 1]\n",
      "[1, 11, 11, 1]\n",
      "[1, 26, 66, 26, 1]\n",
      "[1, 57, 302, 302, 57, 1]\n",
      "[1, 120, 1191, 2416, 1191, 120, 1]\n",
      "[1, 247, 4293, 15619, 15619, 4293, 247, 1]\n"
     ]
    }
   ],
   "source": [
    "for n in range(1, 9): \n",
    "    print(A173018_row(n))\n",
    "    \n",
    "#for n in range(1, 9):\n",
    "#    print([A173018(n, k) for k in range(n)])"
   ]
  },
  {
   "cell_type": "markdown",
   "metadata": {},
   "source": [
    "<p style=\"color:brown;font-size:large\">A000142 -- Factorial numbers, row sums of A355777.</p>"
   ]
  },
  {
   "cell_type": "code",
   "execution_count": 10,
   "metadata": {
    "vscode": {
     "languageId": "python"
    }
   },
   "outputs": [
    {
     "data": {
      "text/plain": [
       "[1, 1, 2, 6, 24, 120, 720, 5040, 40320]"
      ]
     },
     "execution_count": 10,
     "metadata": {},
     "output_type": "execute_result"
    }
   ],
   "source": [
    "[sum(A355777_row(n)) for n in range(9)]"
   ]
  },
  {
   "cell_type": "markdown",
   "metadata": {},
   "source": [
    "<h3 style=\"color:#CD5C5C;background:white; line-height: 150%;border-top: thick solid #CD5C5C; float: left; width: 100%; margin-top: 1em;\">\n",
    "A355776\n",
    "</h3>\n",
    "\n"
   ]
  },
  {
   "cell_type": "markdown",
   "metadata": {},
   "source": [
    "<p style=\"color:brown;font-size:large\">A355776 -- A statistic of permutations whose Lehmer code is nonmonotonic, refining triangle A356116.</p>\n"
   ]
  },
  {
   "cell_type": "code",
   "execution_count": 11,
   "metadata": {
    "vscode": {
     "languageId": "python"
    }
   },
   "outputs": [],
   "source": [
    "@cache\n",
    "def A355776_row(n: int) -> list[int]:\n",
    "    if n < 2:\n",
    "        return [0]\n",
    "    S = perm_stats(n, not_monotonic)\n",
    "    return [0] + [s[1] for s in S] + [0]\n",
    "\n",
    "\n",
    "def A355776(n: int, k: int) -> int:\n",
    "    return A355776_row(n)[k] if n > 0 else 0"
   ]
  },
  {
   "cell_type": "code",
   "execution_count": 12,
   "metadata": {
    "scrolled": true,
    "vscode": {
     "languageId": "python"
    }
   },
   "outputs": [
    {
     "name": "stdout",
     "output_type": "stream",
     "text": [
      "[0]\n",
      "[0]\n",
      "[0, 0]\n",
      "[0, 1, 0]\n",
      "[0, 3, 2, 5, 0]\n",
      "[0, 6, 10, 22, 24, 16, 0]\n",
      "[0, 10, 20, 12, 61, 162, 29, 102, 150, 42, 0]\n",
      "[0, 15, 35, 49, 135, 432, 246, 273, 391, 1389, 461, 388, 698, 99, 0]\n"
     ]
    }
   ],
   "source": [
    "for n in range(8):\n",
    "    print(A355776_row(n))\n",
    "\n",
    "#for n in range(8):\n",
    "#    print([A355776(n, k) for k in range(number_of_partitions(n))])"
   ]
  },
  {
   "cell_type": "markdown",
   "metadata": {},
   "source": [
    "<p style=\"color:brown;font-size:large\">A356116 -- Reduced partition triangle A355776.</p> "
   ]
  },
  {
   "cell_type": "code",
   "execution_count": 13,
   "metadata": {
    "vscode": {
     "languageId": "python"
    }
   },
   "outputs": [],
   "source": [
    "def A356116_row(n):\n",
    "    return reduce_partition_triangle(A355776_row, n + 1)[n - 1]\n",
    "\n",
    "def A356116(n, k):\n",
    "    return A356116_row(n)[k]"
   ]
  },
  {
   "cell_type": "code",
   "execution_count": 14,
   "metadata": {
    "vscode": {
     "languageId": "python"
    }
   },
   "outputs": [
    {
     "name": "stdout",
     "output_type": "stream",
     "text": [
      "[0]\n",
      "[0, 0]\n",
      "[0, 1, 0]\n",
      "[0, 5, 5, 0]\n",
      "[0, 16, 46, 16, 0]\n",
      "[0, 42, 252, 252, 42, 0]\n",
      "[0, 99, 1086, 2241, 1086, 99, 0]\n",
      "[0, 219, 4097, 15129, 15129, 4097, 219, 0]\n"
     ]
    }
   ],
   "source": [
    "for n in range(1, 9):\n",
    "    print(A356116_row(n))\n",
    "\n",
    "#for n in range(1, 9):\n",
    "#    print([A356116(n, k) for k in range(n)])"
   ]
  },
  {
   "cell_type": "markdown",
   "metadata": {},
   "source": [
    "<p style=\"color:brown;font-size:large\">A056986 -- Number of permutations on {1,...,n} containing any given pattern alpha in the symmetric group S_3.</p>"
   ]
  },
  {
   "cell_type": "code",
   "execution_count": 15,
   "metadata": {
    "vscode": {
     "languageId": "python"
    }
   },
   "outputs": [
    {
     "name": "stdout",
     "output_type": "stream",
     "text": [
      "[0, 0, 0, 1, 10, 78, 588, 4611, 38890]\n"
     ]
    }
   ],
   "source": [
    "def A056986(n: int) -> int:\n",
    "    return sum(A355776_row(n))\n",
    "\n",
    "print([A056986(n) for n in range(9)])"
   ]
  },
  {
   "cell_type": "markdown",
   "metadata": {},
   "source": [
    "<p style=\"color:brown;font-size:large\">A056986(0) = 0 is missing in the OEIS and should be prepended. In fact A056986(n) = n! - CatalanNumber(n), which is true for all n >= 0.</p>"
   ]
  },
  {
   "cell_type": "markdown",
   "metadata": {},
   "source": [
    "<h3 style=\"color:#CD5C5C;background:white; line-height: 150%;border-top: thick solid #CD5C5C; float: left; width: 100%; margin-top: 1em;\">\n",
    "A356113\n",
    "</h3>\n"
   ]
  },
  {
   "cell_type": "markdown",
   "metadata": {},
   "source": [
    "<p style=\"color:brown;font-size:large\">A356113 -- Refining A174159, the Euler minus Narayana/Catalan triangle.<br> \n",
    "    T(n, k) = A355777(n, k) + A355776(n, k).</p>"
   ]
  },
  {
   "cell_type": "code",
   "execution_count": 16,
   "metadata": {
    "vscode": {
     "languageId": "python"
    }
   },
   "outputs": [],
   "source": [
    "@cache\n",
    "def A356113(n: int, k: int) -> int:\n",
    "    return A355777(n, k) + A355776(n, k)\n",
    "\n",
    "\n",
    "def A356113_row(n: int) -> list[int]:\n",
    "    return [A356113(n, k) for k in range(number_of_partitions(n))]"
   ]
  },
  {
   "cell_type": "code",
   "execution_count": 17,
   "metadata": {
    "vscode": {
     "languageId": "python"
    }
   },
   "outputs": [
    {
     "name": "stdout",
     "output_type": "stream",
     "text": [
      "[1]\n",
      "[1]\n",
      "[1, 1]\n",
      "[1, 5, 1]\n",
      "[1, 10, 6, 16, 1]\n",
      "[1, 17, 25, 54, 58, 42, 1]\n",
      "[1, 26, 46, 27, 137, 354, 63, 224, 330, 99, 1]\n",
      "[1, 37, 77, 105, 291, 906, 513, 567, 817, 2883, 957, 811, 1466, 219, 1]\n"
     ]
    }
   ],
   "source": [
    "for n in range(8):\n",
    "    print(A356113_row(n))\n",
    "\n",
    "#for n in range(8):\n",
    "#    print([A356113(n, k) for k in range(number_of_partitions(n))])"
   ]
  },
  {
   "cell_type": "markdown",
   "metadata": {},
   "source": [
    "<p style=\"color:brown;font-size:large\">A174159 -- Reduced partition triangle A356113.</p>"
   ]
  },
  {
   "cell_type": "code",
   "execution_count": 18,
   "metadata": {
    "vscode": {
     "languageId": "python"
    }
   },
   "outputs": [],
   "source": [
    "def A174159_row(n: int) -> list[int]: \n",
    "    return reduce_partition_triangle(A356113_row, n + 1)[n - 1]\n",
    "\n",
    "\n",
    "def A174159(n: int, k: int) -> int: \n",
    "    return A174159_row(n)[k]  "
   ]
  },
  {
   "cell_type": "code",
   "execution_count": 19,
   "metadata": {
    "vscode": {
     "languageId": "python"
    }
   },
   "outputs": [
    {
     "name": "stdout",
     "output_type": "stream",
     "text": [
      "[1]\n",
      "[1, 1]\n",
      "[1, 5, 1]\n",
      "[1, 16, 16, 1]\n",
      "[1, 42, 112, 42, 1]\n",
      "[1, 99, 554, 554, 99, 1]\n",
      "[1, 219, 2277, 4657, 2277, 219, 1]\n"
     ]
    }
   ],
   "source": [
    "for n in range(1, 8):\n",
    "    print(A174159_row(n))\n",
    "\n",
    "#for n in range(1, 8):\n",
    "#    print([A174159(n, k) for k in range(n)])"
   ]
  },
  {
   "cell_type": "markdown",
   "metadata": {},
   "source": [
    "<p style=\"color:brown;font-size:large\">A356118 -- Row sums of A174159.</p>"
   ]
  },
  {
   "cell_type": "code",
   "execution_count": 20,
   "metadata": {
    "vscode": {
     "languageId": "python"
    }
   },
   "outputs": [
    {
     "name": "stdout",
     "output_type": "stream",
     "text": [
      "[1, 1, 2, 7, 34, 198, 1308, 9651, 79210]\n"
     ]
    }
   ],
   "source": [
    "def A356118(n):\n",
    "    return sum(A356113_row(n))\n",
    "\n",
    "print([A356118(n) for n in range(9)])"
   ]
  },
  {
   "cell_type": "markdown",
   "metadata": {},
   "source": [
    "<h3 style=\"color:#CD5C5C;background:white; line-height: 150%;border-top: thick solid #CD5C5C; float: left; width: 100%; margin-top: 1em;\">\n",
    "A134264\n",
    "</h3>\n",
    "\n"
   ]
  },
  {
   "cell_type": "markdown",
   "metadata": {},
   "source": [
    "<p style=\"color:brown;font-size:large\">A134264 -- Noncrossing partitions. <br>\n",
    "Refining A001263, the triangle of Narayana numbers.<br>\n",
    "    T(n, k) = A355777(n, k) - A355776(n, k).</p>\n",
    "\n"
   ]
  },
  {
   "cell_type": "code",
   "execution_count": 21,
   "metadata": {
    "vscode": {
     "languageId": "python"
    }
   },
   "outputs": [],
   "source": [
    "@cache\n",
    "def A134264(n: int, k: int) -> int:\n",
    "    return A355777(n, k) - A355776(n, k)\n",
    "\n",
    "\n",
    "def A134264_row(n: int) -> list[int]:\n",
    "    return [A134264(n, k) for k in range(number_of_partitions(n))]"
   ]
  },
  {
   "cell_type": "code",
   "execution_count": 22,
   "metadata": {
    "vscode": {
     "languageId": "python"
    }
   },
   "outputs": [
    {
     "name": "stdout",
     "output_type": "stream",
     "text": [
      "[1]\n",
      "[1]\n",
      "[1, 1]\n",
      "[1, 3, 1]\n",
      "[1, 4, 2, 6, 1]\n",
      "[1, 5, 5, 10, 10, 10, 1]\n",
      "[1, 6, 6, 3, 15, 30, 5, 20, 30, 15, 1]\n",
      "[1, 7, 7, 7, 21, 42, 21, 21, 35, 105, 35, 35, 70, 21, 1]\n"
     ]
    }
   ],
   "source": [
    "for n in range(8):\n",
    "    print(A134264_row(n))\n",
    "\n",
    "#for n in range(7):\n",
    "#    print([A134264(n, k) for k in range(number_of_partitions(n))])"
   ]
  },
  {
   "cell_type": "markdown",
   "metadata": {},
   "source": [
    "<p style=\"color:brown;font-size:large\">A001263 -- Triangle of Narayana numbers.</p>"
   ]
  },
  {
   "cell_type": "code",
   "execution_count": 23,
   "metadata": {
    "vscode": {
     "languageId": "python"
    }
   },
   "outputs": [],
   "source": [
    "def A001263_row(n):\n",
    "    return reduce_partition_triangle(A134264_row, n + 1)[n - 1]\n",
    "\n",
    "def A001263(n, k):\n",
    "    return A001263_row(n)[k]"
   ]
  },
  {
   "cell_type": "code",
   "execution_count": 24,
   "metadata": {
    "vscode": {
     "languageId": "python"
    }
   },
   "outputs": [
    {
     "name": "stdout",
     "output_type": "stream",
     "text": [
      "[1]\n",
      "[1, 1]\n",
      "[1, 3, 1]\n",
      "[1, 6, 6, 1]\n",
      "[1, 10, 20, 10, 1]\n",
      "[1, 15, 50, 50, 15, 1]\n",
      "[1, 21, 105, 175, 105, 21, 1]\n"
     ]
    }
   ],
   "source": [
    "for n in range(1, 8): \n",
    "    print(A001263_row(n))\n",
    "    \n",
    "#for n in range(1, 8):\n",
    "#    print([A001263(n, k) for k in range(n)])"
   ]
  },
  {
   "cell_type": "markdown",
   "metadata": {},
   "source": [
    "<p style=\"color:brown;font-size:large\">A000108 -- Catalan numbers.</p>"
   ]
  },
  {
   "cell_type": "code",
   "execution_count": 25,
   "metadata": {
    "vscode": {
     "languageId": "python"
    }
   },
   "outputs": [
    {
     "name": "stdout",
     "output_type": "stream",
     "text": [
      "[1, 1, 2, 5, 14, 42, 132, 429, 1430]\n"
     ]
    }
   ],
   "source": [
    "def A000108(n):\n",
    "    return sum(A134264_row(n))\n",
    "\n",
    "print([A000108(n) for n in range(9)])"
   ]
  },
  {
   "cell_type": "markdown",
   "metadata": {},
   "source": [
    "<h3 style=\"color:#CD5C5C;background:white; line-height: 150%;border-top: thick solid #CD5C5C; float: left; width: 100%; margin-top: 1em;\">\n",
    "A356262\n",
    "</h3>"
   ]
  },
  {
   "cell_type": "code",
   "execution_count": 26,
   "metadata": {
    "vscode": {
     "languageId": "python"
    }
   },
   "outputs": [],
   "source": [
    "@cache\n",
    "def A356262_row(n: int) -> list[int]:\n",
    "    if n < 2: return [1]\n",
    "    return [0] + [v[1] for v in perm_red_stats(n, reducible, void)]\n",
    "\n",
    "\n",
    "def A356262(n: int, k: int) -> int:\n",
    "    return A356262_row(n)[k]"
   ]
  },
  {
   "cell_type": "code",
   "execution_count": 27,
   "metadata": {
    "vscode": {
     "languageId": "python"
    }
   },
   "outputs": [
    {
     "name": "stdout",
     "output_type": "stream",
     "text": [
      "[1]\n",
      "[1]\n",
      "[0, 1]\n",
      "[0, 2, 1]\n",
      "[0, 2, 1, 9, 1]\n",
      "[0, 2, 3, 24, 17, 24, 1]\n",
      "[0, 2, 3, 3, 98, 29, 23, 156, 91, 55, 1]\n",
      "[0, 2, 8, 4, 181, 43, 157, 113, 1085, 243, 418, 714, 360, 118, 1]\n"
     ]
    }
   ],
   "source": [
    "for n in range(8):\n",
    "    print(A356262_row(n))\n",
    "\n",
    "#for n in range(8):\n",
    "#    print([A356262(n, k) for k in range(number_of_partitions(n))])"
   ]
  },
  {
   "cell_type": "markdown",
   "metadata": {},
   "source": [
    "<p style=\"color:brown;font-size:large\">A356263 -- Reduced partition triangle A356262.</p>"
   ]
  },
  {
   "cell_type": "code",
   "execution_count": 28,
   "metadata": {
    "vscode": {
     "languageId": "python"
    }
   },
   "outputs": [],
   "source": [
    "def A356263_row(n: int) -> list[int]:\n",
    "    return reduce_partition_triangle(A356262_row, n+1)[n-1]\n",
    "\n",
    "\n",
    "def A356263(n: int, k: int) -> int:\n",
    "    return A356263_row(n)[k]"
   ]
  },
  {
   "cell_type": "code",
   "execution_count": 29,
   "metadata": {
    "vscode": {
     "languageId": "python"
    }
   },
   "outputs": [
    {
     "name": "stdout",
     "output_type": "stream",
     "text": [
      "[1]\n",
      "[0, 1]\n",
      "[0, 2, 1]\n",
      "[0, 3, 9, 1]\n",
      "[0, 5, 41, 24, 1]\n",
      "[0, 8, 150, 247, 55, 1]\n",
      "[0, 14, 494, 1746, 1074, 118, 1]\n"
     ]
    }
   ],
   "source": [
    "for n in range(1, 8): \n",
    "    print(A356263_row(n))\n",
    "    \n",
    "#for n in range(1, 8):\n",
    "#    print([A356263(n, k) for k in range(n)])"
   ]
  },
  {
   "cell_type": "markdown",
   "metadata": {},
   "source": [
    "<p style=\"color:brown;font-size:large\">A003319 -- Number of irreducible permutations.</p>"
   ]
  },
  {
   "cell_type": "code",
   "execution_count": 30,
   "metadata": {
    "vscode": {
     "languageId": "python"
    }
   },
   "outputs": [
    {
     "name": "stdout",
     "output_type": "stream",
     "text": [
      "[1, 1, 1, 3, 13, 71, 461, 3447, 29093]\n"
     ]
    }
   ],
   "source": [
    "def A003319(n: int):\n",
    "    return sum(A356262_row(n))\n",
    "\n",
    "\n",
    "print([A003319(n) for n in range(9)])"
   ]
  },
  {
   "cell_type": "markdown",
   "metadata": {},
   "source": [
    "<p style=\"color:brown;font-size:large\">A much more efficient implementation would be for example:</p>"
   ]
  },
  {
   "cell_type": "code",
   "execution_count": 31,
   "metadata": {
    "vscode": {
     "languageId": "python"
    }
   },
   "outputs": [
    {
     "name": "stdout",
     "output_type": "stream",
     "text": [
      "[1, 1, 1, 3, 13, 71, 461, 3447, 29093, 273343]\n"
     ]
    }
   ],
   "source": [
    "def A003319_list(size):\n",
    "    R, C = [1], [1] + [0] * (size - 1)\n",
    "    for n in (1..size - 1):\n",
    "        for k in range(n, 0, -1):\n",
    "            C[k] = C[k - 1] * k\n",
    "        C[0] = -sum(C[k] for k in (1..n))\n",
    "        R.append(-C[0])\n",
    "    return R\n",
    "\n",
    "print(A003319_list(10))"
   ]
  },
  {
   "cell_type": "markdown",
   "metadata": {},
   "source": [
    "<h3 style=\"color:#CD5C5C;background:white; line-height: 150%;border-top: thick solid #CD5C5C; float: left; width: 100%; margin-top: 1em;\">\n",
    "A356264\n",
    "</h3>"
   ]
  },
  {
   "cell_type": "code",
   "execution_count": 32,
   "metadata": {
    "vscode": {
     "languageId": "python"
    }
   },
   "outputs": [],
   "source": [
    "@cache\n",
    "def A356264_row(n: int) -> list[int]:\n",
    "    if n < 2: return [0]\n",
    "    return [v[1] for v in perm_red_stats(n, irreducible, void)] + [0]\n",
    "\n",
    "\n",
    "def A356264(n: int, k: int) -> int:\n",
    "    return A356264_row(n)[k]"
   ]
  },
  {
   "cell_type": "code",
   "execution_count": 33,
   "metadata": {
    "vscode": {
     "languageId": "python"
    }
   },
   "outputs": [
    {
     "name": "stdout",
     "output_type": "stream",
     "text": [
      "[0] [0]\n",
      "[1] [0]\n",
      "[2] [1, 0]\n",
      "[3] [1, 2, 0]\n",
      "[4] [1, 5, 3, 2, 0]\n",
      "[5] [1, 9, 12, 15, 10, 2, 0]\n",
      "[6] [1, 14, 23, 12, 47, 94, 11, 31, 24, 2, 0]\n",
      "[7] [1, 20, 38, 48, 113, 293, 154, 137, 183, 409, 78, 63, 54, 2, 0]\n"
     ]
    }
   ],
   "source": [
    "for n in range(8):\n",
    "    print([n], A356264_row(n))    \n",
    "\n",
    "#for n in range(1, 8):\n",
    "#    print([A356264(n, k) for k in range(number_of_partitions(n))])"
   ]
  },
  {
   "cell_type": "markdown",
   "metadata": {},
   "source": [
    "<p style=\"color:brown;font-size:large\">A356265 -- Reduced partition triangle A356264.</p>"
   ]
  },
  {
   "cell_type": "code",
   "execution_count": 34,
   "metadata": {
    "vscode": {
     "languageId": "python"
    }
   },
   "outputs": [],
   "source": [
    "def A356265_row(n: int) -> list[int]:\n",
    "    return reduce_partition_triangle(A356264_row, n+1)[n-1]\n",
    "\n",
    "\n",
    "def A356265(n: int, k: int) -> int:\n",
    "    return A356265_row(n)[k]"
   ]
  },
  {
   "cell_type": "code",
   "execution_count": 35,
   "metadata": {
    "vscode": {
     "languageId": "python"
    }
   },
   "outputs": [
    {
     "name": "stdout",
     "output_type": "stream",
     "text": [
      "[0]\n",
      "[1, 0]\n",
      "[1, 2, 0]\n",
      "[1, 8, 2, 0]\n",
      "[1, 21, 25, 2, 0]\n",
      "[1, 49, 152, 55, 2, 0]\n",
      "[1, 106, 697, 670, 117, 2, 0]\n"
     ]
    }
   ],
   "source": [
    "for n in range(1, 8): \n",
    "    print(A356265_row(n))\n",
    "\n",
    "#for n in range(1, 8):\n",
    "#    print([A356265(n, k) for k in range(n)])"
   ]
  },
  {
   "cell_type": "markdown",
   "metadata": {},
   "source": [
    "<p style=\"color:brown;font-size:large\">A356291 -- Number of reducible permutations.</p>"
   ]
  },
  {
   "cell_type": "code",
   "execution_count": 36,
   "metadata": {
    "vscode": {
     "languageId": "python"
    }
   },
   "outputs": [
    {
     "name": "stdout",
     "output_type": "stream",
     "text": [
      "[0, 0, 1, 3, 11, 49, 259, 1593, 11227]\n"
     ]
    }
   ],
   "source": [
    "def A356291(n: int):\n",
    "    return sum(A356264_row(n))\n",
    "\n",
    "\n",
    "print([A356291(n) for n in range(9)])"
   ]
  },
  {
   "cell_type": "markdown",
   "metadata": {},
   "source": [
    "<h3 style=\"color:#CD5C5C;background:white; line-height: 150%;border-top: thick solid #CD5C5C; float: left; width: 100%; margin-top: 1em;\">\n",
    "Theorem: A bisection of Euler's triangle:\n",
    "</h3>\n",
    "<ul>\n",
    "<li style=\"color:brown;font-size:large\">Sequence version:\n",
    "    <code>A356291(n) + A003319(n) = A000142(n)</code></li>\n",
    "<li style=\"color:brown;font-size:large\">Reduced version:\n",
    "    <code>A356265(n, k) + A356263(n, k) = A173018(n, k)</code></li>\n",
    "</ul>\n",
    "\n",
    "<p style=\"color:brown;font-size:large\">However, note that the partition version \n",
    "cannot be written as\n",
    "<code>A356264(n, k) + A356262(n, k) = A355777(n, k).</code>\n",
    "Let's test the functions:</p>"
   ]
  },
  {
   "cell_type": "code",
   "execution_count": 37,
   "metadata": {
    "vscode": {
     "languageId": "python"
    }
   },
   "outputs": [
    {
     "name": "stdout",
     "output_type": "stream",
     "text": [
      "[0, 0, 0, 0, 0, 0, 0, 0]\n"
     ]
    }
   ],
   "source": [
    "# Sequence version\n",
    "def test1(n: int) -> int: \n",
    "    return A356291(n) + A003319(n) - factorial(n)\n",
    "\n",
    "print([test1(n) for n in range(1, 9)])"
   ]
  },
  {
   "cell_type": "code",
   "execution_count": 38,
   "metadata": {
    "vscode": {
     "languageId": "python"
    }
   },
   "outputs": [
    {
     "name": "stdout",
     "output_type": "stream",
     "text": [
      "[0]\n",
      "[0, 0]\n",
      "[0, 0, 0]\n",
      "[0, 0, 0, 0]\n",
      "[0, 0, 0, 0, 0]\n",
      "[0, 0, 0, 0, 0, 0]\n",
      "[0, 0, 0, 0, 0, 0, 0]\n",
      "[0, 0, 0, 0, 0, 0, 0, 0]\n"
     ]
    }
   ],
   "source": [
    "# Reduced version\n",
    "def test2(n: int, k: int) -> int: \n",
    "    return A356265(n, k) + A356263(n, k) - A173018(n, k)\n",
    "\n",
    "for n in range(1, 9):\n",
    "    print([test2(n, k) for k in range(n)])"
   ]
  },
  {
   "cell_type": "code",
   "execution_count": 39,
   "metadata": {
    "vscode": {
     "languageId": "python"
    }
   },
   "outputs": [
    {
     "name": "stdout",
     "output_type": "stream",
     "text": [
      "[0] [0]\n",
      "[1] [0]\n",
      "[2] [0, 0]\n",
      "[3] [0, 0, 0]\n",
      "[4] [0, 0, 0, 0, 0]\n",
      "[5] [0, 0, 0, 7, -7, 0, 0]\n",
      "[6] [0, 0, 0, 0, 69, -69, 0, 65, -65, 0, 0]\n",
      "[7] [0, 0, 4, -4, 138, -138, 44, -44, 842, -842, 0, 354, -354, 0, 0]\n"
     ]
    }
   ],
   "source": [
    "# Partition version\n",
    "def test3(n: int, k: int) -> int: \n",
    "    return A356264(n, k) + A356262(n, k) - A355777(n, k)\n",
    "\n",
    "for n in range(8):\n",
    "    print([n], [test3(n, k) for k in range(number_of_partitions(n))])"
   ]
  },
  {
   "cell_type": "markdown",
   "metadata": {},
   "source": [
    "<h3 style=\"color:#CD5C5C;background:white; line-height: 150%;border-top: thick solid #CD5C5C; float: left; width: 100%; margin-top: 1em;\">\n",
    "A356261\n",
    "</h3>"
   ]
  },
  {
   "cell_type": "code",
   "execution_count": 40,
   "metadata": {
    "vscode": {
     "languageId": "python"
    }
   },
   "outputs": [],
   "source": [
    "@cache\n",
    "def A356261_row(n: int) -> list[int]:\n",
    "    if n < 2: return [1]\n",
    "    return [0] + [v[1] for v in perm_red_stats(n, reducible, weakly_decreasing)]\n",
    "\n",
    "\n",
    "def A356261(n: int, k: int) -> int:\n",
    "    return A356261_row(n)[k]"
   ]
  },
  {
   "cell_type": "code",
   "execution_count": 41,
   "metadata": {
    "vscode": {
     "languageId": "python"
    }
   },
   "outputs": [
    {
     "name": "stdout",
     "output_type": "stream",
     "text": [
      "[0] [1]\n",
      "[1] [1]\n",
      "[2] [0, 1]\n",
      "[3] [0, 2, 1]\n",
      "[4] [0, 2, 1, 5, 1]\n",
      "[5] [0, 2, 2, 7, 7, 9, 1]\n",
      "[6] [0, 2, 2, 1, 9, 18, 3, 16, 24, 14, 1]\n",
      "[7] [0, 2, 2, 2, 11, 22, 11, 11, 25, 75, 25, 30, 60, 20, 1]\n"
     ]
    }
   ],
   "source": [
    "for n in range(8):\n",
    "    print([n], A356261_row(n))\n",
    "\n",
    "#for n in range(8):\n",
    "#    print([A356261(n, k) for k in range(number_of_partitions(n))])"
   ]
  },
  {
   "cell_type": "markdown",
   "metadata": {},
   "source": [
    "<p style=\"color:brown;font-size:large\">A119308 -- Reduced partition triangle of A, the first differences of the Catalan numbers.</p>"
   ]
  },
  {
   "cell_type": "code",
   "execution_count": 42,
   "metadata": {
    "vscode": {
     "languageId": "python"
    }
   },
   "outputs": [],
   "source": [
    "def A119308_row(n: int) -> list[int]:\n",
    "    return reduce_partition_triangle(A356261_row, n + 1)[n - 1]\n",
    "\n",
    "\n",
    "def A119308(n: int, k: int) -> int:\n",
    "    return A119308_row(n)[k]"
   ]
  },
  {
   "cell_type": "code",
   "execution_count": 43,
   "metadata": {
    "vscode": {
     "languageId": "python"
    }
   },
   "outputs": [
    {
     "name": "stdout",
     "output_type": "stream",
     "text": [
      "[1] [1]\n",
      "[2] [0, 1]\n",
      "[3] [0, 2, 1]\n",
      "[4] [0, 3, 5, 1]\n",
      "[5] [0, 4, 14, 9, 1]\n",
      "[6] [0, 5, 30, 40, 14, 1]\n",
      "[7] [0, 6, 55, 125, 90, 20, 1]\n"
     ]
    }
   ],
   "source": [
    "for n in range(1, 8):\n",
    "    print([n], A119308_row(n))\n",
    "\n",
    "#for n in range(8):\n",
    "#    print([A119308(n, k) for k in range(n)])"
   ]
  },
  {
   "cell_type": "markdown",
   "metadata": {},
   "source": [
    "$$ \\text{A119308}(n, k) = \\sum_{j=0}^{n-1} \\frac{\\binom{n-2}{j-1} \\binom{j}{k} \\binom{k}{j-k}}{j-k+1} $$\n"
   ]
  },
  {
   "cell_type": "markdown",
   "metadata": {},
   "source": [
    "<p style=\"color:brown;font-size:large\">Our triangle (and the formula) has a different offset than the one in the OEIS and an additional column on the left side.</p>"
   ]
  },
  {
   "cell_type": "markdown",
   "metadata": {},
   "source": [
    "<p style=\"color:brown;font-size:large\">A071724 (shifted) -- number of standard tableaux. </p>"
   ]
  },
  {
   "cell_type": "code",
   "execution_count": 44,
   "metadata": {
    "vscode": {
     "languageId": "python"
    }
   },
   "outputs": [
    {
     "name": "stdout",
     "output_type": "stream",
     "text": [
      "[1, 1, 1, 3, 9, 28, 90, 297, 1001]\n"
     ]
    }
   ],
   "source": [
    "def A071724(n: int) -> int:\n",
    "    return sum(A356261_row(n))\n",
    "\n",
    "print([A071724(n) for n in range(9)])"
   ]
  },
  {
   "cell_type": "markdown",
   "metadata": {},
   "source": [
    "<h3 style=\"color:#CD5C5C;background:white; line-height: 150%;border-top: thick solid #CD5C5C; float: left; width: 100%; margin-top: 1em;\">\n",
    "A356266\n",
    "</h3>"
   ]
  },
  {
   "cell_type": "code",
   "execution_count": 45,
   "metadata": {
    "vscode": {
     "languageId": "python"
    }
   },
   "outputs": [],
   "source": [
    "@cache\n",
    "def A356266_row(n: int) -> list[int]:\n",
    "    if n < 2: return [1]\n",
    "    return [0] + [v[1] for v in perm_red_stats(n, irreducible, weakly_decreasing)]\n",
    "\n",
    "\n",
    "def A356266(n: int, k: int) -> int:\n",
    "    return A356266_row(n)[k]"
   ]
  },
  {
   "cell_type": "code",
   "execution_count": 46,
   "metadata": {
    "vscode": {
     "languageId": "python"
    }
   },
   "outputs": [
    {
     "name": "stdout",
     "output_type": "stream",
     "text": [
      "[1]\n",
      "[1]\n",
      "[0, 1]\n",
      "[0, 1, 1]\n",
      "[0, 1, 2, 1, 1]\n",
      "[0, 1, 3, 3, 3, 3, 1]\n",
      "[0, 1, 4, 4, 2, 6, 12, 2, 4, 6, 1]\n",
      "[0, 1, 5, 5, 5, 10, 20, 10, 10, 10, 30, 10, 5, 10, 1]\n"
     ]
    }
   ],
   "source": [
    "for n in range(8):\n",
    "    print(A356266_row(n))\n",
    "\n",
    "#for n in range(8):\n",
    "#    print([A356266(n, k) for k in range(number_of_partitions(n))])"
   ]
  },
  {
   "cell_type": "markdown",
   "metadata": {},
   "source": [
    "<p style=\"color:brown;font-size:large\">A356115 -- Reduced triangle of the partition triangle A356266.</p>"
   ]
  },
  {
   "cell_type": "code",
   "execution_count": 47,
   "metadata": {
    "vscode": {
     "languageId": "python"
    }
   },
   "outputs": [],
   "source": [
    "def A356115_row(n: int) -> list[int]:\n",
    "    return reduce_partition_triangle(A356266_row, n + 1)[n - 1]\n",
    "\n",
    "\n",
    "def A356115(n: int, k: int) -> int:\n",
    "    return A356115_row(n)[k]"
   ]
  },
  {
   "cell_type": "code",
   "execution_count": 48,
   "metadata": {
    "vscode": {
     "languageId": "python"
    }
   },
   "outputs": [
    {
     "name": "stdout",
     "output_type": "stream",
     "text": [
      "[1] [1]\n",
      "[2] [0, 1]\n",
      "[3] [0, 1, 1]\n",
      "[4] [0, 3, 1, 1]\n",
      "[5] [0, 4, 6, 3, 1]\n",
      "[6] [0, 9, 20, 6, 6, 1]\n",
      "[7] [0, 11, 45, 50, 15, 10, 1]\n"
     ]
    }
   ],
   "source": [
    "for n in range(1, 8):\n",
    "    print([n], A356115_row(n))\n",
    "\n",
    "#for n in range(8):\n",
    "#    print([A356115(n, k) for k in range(n)])"
   ]
  },
  {
   "cell_type": "markdown",
   "metadata": {},
   "source": [
    "<p style=\"color:brown;font-size:large\">A120588 -- the shifted Catalan numbers.</p>"
   ]
  },
  {
   "cell_type": "code",
   "execution_count": 49,
   "metadata": {
    "vscode": {
     "languageId": "python"
    }
   },
   "outputs": [
    {
     "name": "stdout",
     "output_type": "stream",
     "text": [
      "[1, 1, 1, 2, 5, 14, 42, 132]\n"
     ]
    }
   ],
   "source": [
    "def A120588(n: int) -> int:\n",
    "    return sum(A356266_row(n))\n",
    "\n",
    "print([A120588(n) for n in range(8)])"
   ]
  },
  {
   "cell_type": "markdown",
   "metadata": {},
   "source": [
    "<p style=\"color:brown;font-size:large\">~~~</p>"
   ]
  }
 ],
 "metadata": {
  "kernelspec": {
   "display_name": "SageMath 9.5",
   "language": "sage",
   "name": "sagemath"
  },
  "language_info": {
   "codemirror_mode": {
    "name": "ipython",
    "version": 3
   },
   "file_extension": ".py",
   "mimetype": "text/x-python",
   "name": "sage",
   "nbconvert_exporter": "python",
   "pygments_lexer": "ipython3",
   "version": "3.10.4"
  },
  "vscode": {
   "interpreter": {
    "hash": "afb734500600fd355917ca529030176ea0ca205570884b88f2f6f7d791fd3fbe"
   }
  }
 },
 "nbformat": 4,
 "nbformat_minor": 4
}
